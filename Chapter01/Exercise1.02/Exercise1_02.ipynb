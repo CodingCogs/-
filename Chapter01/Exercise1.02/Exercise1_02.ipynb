{
 "cells": [
  {
   "cell_type": "markdown",
   "metadata": {},
   "source": [
    "### Exercise 1.02\n",
    "__Dealing with messy data__\n",
    "\n",
    "_Missing data_"
   ]
  },
  {
   "cell_type": "markdown",
   "metadata": {},
   "source": [
    "Import all the required elements. Next, load the tips dataset and store it in a variable called tips. Use the following code:"
   ]
  },
  {
   "cell_type": "code",
   "execution_count": 1,
   "metadata": {},
   "outputs": [],
   "source": [
    "import seaborn as sns\n",
    "import numpy as np\n",
    "import matplotlib.pyplot as plt\n",
    "tips = sns.load_dataset('tips')"
   ]
  },
  {
   "cell_type": "markdown",
   "metadata": {},
   "source": [
    "Next, create a variable called size to store the values of that feature from the dataset. As this dataset does not contain any missing data, we will convert the\n",
    "top 16 values of the size variable into missing values. Print out the top 20\n",
    "values of the age variable:"
   ]
  },
  {
   "cell_type": "code",
   "execution_count": 2,
   "metadata": {},
   "outputs": [
    {
     "name": "stderr",
     "output_type": "stream",
     "text": [
      "c:\\Python310\\lib\\site-packages\\pandas\\core\\indexing.py:1732: SettingWithCopyWarning: \n",
      "A value is trying to be set on a copy of a slice from a DataFrame\n",
      "\n",
      "See the caveats in the documentation: https://pandas.pydata.org/pandas-docs/stable/user_guide/indexing.html#returning-a-view-versus-a-copy\n",
      "  self._setitem_single_block(indexer, value, name)\n"
     ]
    },
    {
     "data": {
      "text/plain": [
       "0     NaN\n",
       "1     NaN\n",
       "2     NaN\n",
       "3     NaN\n",
       "4     NaN\n",
       "5     NaN\n",
       "6     NaN\n",
       "7     NaN\n",
       "8     NaN\n",
       "9     NaN\n",
       "10    NaN\n",
       "11    NaN\n",
       "12    NaN\n",
       "13    NaN\n",
       "14    NaN\n",
       "15    NaN\n",
       "16    3.0\n",
       "17    3.0\n",
       "18    3.0\n",
       "19    3.0\n",
       "Name: size, dtype: float64"
      ]
     },
     "execution_count": 2,
     "metadata": {},
     "output_type": "execute_result"
    }
   ],
   "source": [
    "size = tips[\"size\"]\n",
    "size.loc[:15] = np.nan\n",
    "size.head(20)"
   ]
  },
  {
   "cell_type": "markdown",
   "metadata": {},
   "source": [
    "The preceding code snippet creates the size variable as a slice of the dataset,\n",
    "then coverts the top 16 values of the variable into Not a Number (NaN), which is\n",
    "the representation of a missing value. Finally, it prints the top 20 values of\n",
    "the variable."
   ]
  },
  {
   "cell_type": "markdown",
   "metadata": {},
   "source": [
    "Check the shape of the size variable:"
   ]
  },
  {
   "cell_type": "code",
   "execution_count": 3,
   "metadata": {},
   "outputs": [
    {
     "data": {
      "text/plain": [
       "(244,)"
      ]
     },
     "execution_count": 3,
     "metadata": {},
     "output_type": "execute_result"
    }
   ],
   "source": [
    "size.shape"
   ]
  },
  {
   "cell_type": "markdown",
   "metadata": {},
   "source": [
    "Now, count the number of NaN values to determine how to handle them. Use\n",
    "the isnull() function to find the NaN values, and use the sum() function to\n",
    "sum them all:"
   ]
  },
  {
   "cell_type": "code",
   "execution_count": 4,
   "metadata": {},
   "outputs": [
    {
     "data": {
      "text/plain": [
       "16"
      ]
     },
     "execution_count": 4,
     "metadata": {},
     "output_type": "execute_result"
    }
   ],
   "source": [
    "size.isnull().sum()"
   ]
  },
  {
   "cell_type": "markdown",
   "metadata": {},
   "source": [
    "The participation of the NaN values in the total size of the variable is 6.55%,\n",
    "which can be calculated by dividing the number of missing values by the length\n",
    "of the feature (16/244). Although this is not high enough to consider removing\n",
    "the entire feature, there is a need to handle the missing values."
   ]
  },
  {
   "cell_type": "markdown",
   "metadata": {},
   "source": [
    "Let's choose the mean imputation methodology to replace the missing values.\n",
    "To do so, compute the mean of the available values, as follows:"
   ]
  },
  {
   "cell_type": "code",
   "execution_count": 5,
   "metadata": {},
   "outputs": [
    {
     "name": "stdout",
     "output_type": "stream",
     "text": [
      "3\n"
     ]
    }
   ],
   "source": [
    "mean = size.mean()\n",
    "mean = round(mean)\n",
    "print(mean)"
   ]
  },
  {
   "cell_type": "markdown",
   "metadata": {},
   "source": [
    "Replace all missing values with the mean. Use the fillna() function, which\n",
    "takes every missing value and replaces it with the value that is defined inside\n",
    "the parenthesis. To check that the values have been replaced, print the first 10\n",
    "values again:"
   ]
  },
  {
   "cell_type": "code",
   "execution_count": 6,
   "metadata": {},
   "outputs": [
    {
     "data": {
      "text/plain": [
       "0     3.0\n",
       "1     3.0\n",
       "2     3.0\n",
       "3     3.0\n",
       "4     3.0\n",
       "5     3.0\n",
       "6     3.0\n",
       "7     3.0\n",
       "8     3.0\n",
       "9     3.0\n",
       "10    3.0\n",
       "11    3.0\n",
       "12    3.0\n",
       "13    3.0\n",
       "14    3.0\n",
       "15    3.0\n",
       "16    3.0\n",
       "17    3.0\n",
       "18    3.0\n",
       "19    3.0\n",
       "Name: size, dtype: float64"
      ]
     },
     "execution_count": 6,
     "metadata": {},
     "output_type": "execute_result"
    }
   ],
   "source": [
    "size.fillna(mean, inplace=True)\n",
    "size.head(20)"
   ]
  },
  {
   "cell_type": "markdown",
   "metadata": {},
   "source": [
    "_Outliers: Ploting_"
   ]
  },
  {
   "cell_type": "markdown",
   "metadata": {},
   "source": [
    "Use Matplotlib to graph a histogram of the age variable. Use Matplotlib's\n",
    "hist() function, as per the following code:"
   ]
  },
  {
   "cell_type": "code",
   "execution_count": 7,
   "metadata": {},
   "outputs": [
    {
     "data": {
      "image/png": "[encoded data removed]",
      "text/plain": [
       "<Figure size 432x288 with 1 Axes>"
      ]
     },
     "metadata": {
      "needs_background": "light"
     },
     "output_type": "display_data"
    }
   ],
   "source": [
    "plt.hist(size)\n",
    "plt.show()"
   ]
  },
  {
   "cell_type": "markdown",
   "metadata": {},
   "source": [
    "Discover the outliers in the data. Let's use three standard deviations as the\n",
    "measure to calculate the minimum and maximum values.\n",
    "As we discussed previously, the min value is determined by calculating the mean\n",
    "of all of the values and subtracting three standard deviations from it. Use the\n",
    "following code to set the min value and store it in a variable named min_val:"
   ]
  },
  {
   "cell_type": "code",
   "execution_count": 8,
   "metadata": {},
   "outputs": [
    {
     "name": "stdout",
     "output_type": "stream",
     "text": [
      "-0.19743490657874485\n"
     ]
    }
   ],
   "source": [
    "min_val = size.mean() - (3 * size.std())\n",
    "print(min_val)"
   ]
  },
  {
   "cell_type": "markdown",
   "metadata": {},
   "source": [
    "The min value is around -0.1974. According to the min value, there are no\n",
    "outliers at the left tail of the Gaussian distribution. This makes sense, given that\n",
    "the distribution is tilted slightly to the left.\n",
    " \n",
    "Opposite to the min value, for the max value, the standard deviations are added\n",
    "to the mean to calculate the higher threshold. Calculate the max value, as shown\n",
    "in the following code, and store it in a variable named max_val:"
   ]
  },
  {
   "cell_type": "code",
   "execution_count": 9,
   "metadata": {},
   "outputs": [
    {
     "name": "stdout",
     "output_type": "stream",
     "text": [
      "5.369566054119728\n"
     ]
    }
   ],
   "source": [
    "max_val = size.mean() + (3 * size.std())\n",
    "print(max_val)"
   ]
  },
  {
   "cell_type": "markdown",
   "metadata": {},
   "source": [
    "The max value, which comes to around 5.3695, determines that instances with\n",
    "a size above 5.36 represent outliers. As you can see in the preceding diagram,\n",
    "this also makes sense as those instances are far away from the bell of the\n",
    "Gaussian distribution. \n",
    " \n",
    "Count the number of instances that are above the maximum value to decide\n",
    "how to handle them, as per the instructions given here.\n",
    "Using indexing, obtain the values in size that are above the max threshold\n",
    "and store them in a variable called outliers. Then, count the outliers using\n",
    "count(): "
   ]
  },
  {
   "cell_type": "code",
   "execution_count": 10,
   "metadata": {},
   "outputs": [
    {
     "data": {
      "text/plain": [
       "4"
      ]
     },
     "execution_count": 10,
     "metadata": {},
     "output_type": "execute_result"
    }
   ],
   "source": [
    "outliers = size[size > max_val]\n",
    "outliers.count()"
   ]
  },
  {
   "cell_type": "markdown",
   "metadata": {},
   "source": [
    "Print out the outliers and check that the correct values were stored, as follows:"
   ]
  },
  {
   "cell_type": "code",
   "execution_count": 11,
   "metadata": {},
   "outputs": [
    {
     "name": "stdout",
     "output_type": "stream",
     "text": [
      "125    6.0\n",
      "141    6.0\n",
      "143    6.0\n",
      "156    6.0\n",
      "Name: size, dtype: float64\n"
     ]
    }
   ],
   "source": [
    "print(outliers)"
   ]
  },
  {
   "cell_type": "markdown",
   "metadata": {},
   "source": [
    "Redefine the values stored in size by using indexing to include only values\n",
    "below the max threshold. Then, print the shape of size:"
   ]
  },
  {
   "cell_type": "code",
   "execution_count": 12,
   "metadata": {},
   "outputs": [
    {
     "data": {
      "text/plain": [
       "(240,)"
      ]
     },
     "execution_count": 12,
     "metadata": {},
     "output_type": "execute_result"
    }
   ],
   "source": [
    "age = size[size <= max_val]\n",
    "age.shape"
   ]
  }
 ],
 "metadata": {
  "kernelspec": {
   "display_name": "Python 3.10.0 64-bit",
   "language": "python",
   "name": "python3"
  },
  "language_info": {
   "codemirror_mode": {
    "name": "ipython",
    "version": 3
   },
   "file_extension": ".py",
   "mimetype": "text/x-python",
   "name": "python",
   "nbconvert_exporter": "python",
   "pygments_lexer": "ipython3",
   "version": "3.10.0"
  },
  "vscode": {
   "interpreter": {
    "hash": "369f2c481f4da34e4445cda3fffd2e751bd1c4d706f27375911949ba6bb62e1c"
   }
  }
 },
 "nbformat": 4,
 "nbformat_minor": 2
}
