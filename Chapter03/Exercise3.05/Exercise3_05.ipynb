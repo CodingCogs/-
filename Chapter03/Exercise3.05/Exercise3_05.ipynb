{
 "cells": [
  {
   "cell_type": "markdown",
   "metadata": {},
   "source": [
    "Open a Jupyter Notebook to implement this exercise and import all the required\n",
    "elements to load and split the dataset. These will be used to train a model and\n",
    "evaluate its recall:"
   ]
  },
  {
   "cell_type": "code",
   "execution_count": 1,
   "metadata": {},
   "outputs": [],
   "source": [
    "from sklearn.datasets import load_breast_cancer\n",
    "import pandas as pd\n",
    "from sklearn.model_selection import train_test_split\n",
    "import numpy as np\n",
    "from sklearn import tree\n",
    "from sklearn.metrics import recall_score"
   ]
  },
  {
   "cell_type": "markdown",
   "metadata": {},
   "source": [
    "For this exercise, the breast cancer dataset will be used. Use the following\n",
    "code to load the dataset and create the Pandas DataFrames containing the\n",
    "features and target matrices:"
   ]
  },
  {
   "cell_type": "code",
   "execution_count": 2,
   "metadata": {},
   "outputs": [],
   "source": [
    "breast_cancer = load_breast_cancer()\n",
    "\n",
    "X = pd.DataFrame(breast_cancer.data)\n",
    "Y = pd.DataFrame(breast_cancer.target)"
   ]
  },
  {
   "cell_type": "markdown",
   "metadata": {},
   "source": [
    "Split the dataset into training, validation, and testing sets:"
   ]
  },
  {
   "cell_type": "code",
   "execution_count": 3,
   "metadata": {},
   "outputs": [
    {
     "name": "stdout",
     "output_type": "stream",
     "text": [
      "(455, 30) (455, 1) (57, 30) (57, 1) (57, 30) (57, 1)\n"
     ]
    }
   ],
   "source": [
    "X_new, X_test, Y_new, Y_test = train_test_split(X, Y, test_size=0.1, random_state=101)\n",
    "test_size = X_test.shape[0] / X_new.shape[0]\n",
    "X_train, X_dev, Y_train, Y_dev = train_test_split(X_new, Y_new, test_size=test_size, random_state=101)\n",
    "\n",
    "print(X_train.shape, Y_train.shape, X_dev.shape, Y_dev.shape, X_test.shape, Y_test.shape)"
   ]
  },
  {
   "cell_type": "markdown",
   "metadata": {},
   "source": [
    "Create a train/dev set that combines data from both the training and\n",
    "validation sets:"
   ]
  },
  {
   "cell_type": "code",
   "execution_count": 4,
   "metadata": {},
   "outputs": [
    {
     "name": "stdout",
     "output_type": "stream",
     "text": [
      "(50, 30) (50, 1)\n"
     ]
    }
   ],
   "source": [
    "np.random.seed(101)\n",
    "\n",
    "indices_train = np.random.randint(0,len(X_train),25)\n",
    "indices_dev = np.random.randint(0,len(X_dev),25)\n",
    "\n",
    "X_train_dev = pd.concat([X_train.iloc[indices_train,:],X_dev.iloc[indices_dev,:]])\n",
    "Y_train_dev = pd.concat([Y_train.iloc[indices_train,:],Y_dev.iloc[indices_dev,:]])\n",
    "\n",
    "print(X_train_dev.shape, Y_train_dev.shape)"
   ]
  },
  {
   "cell_type": "markdown",
   "metadata": {},
   "source": [
    "First, a random seed is set to ensure the reproducibility of the results. Next,\n",
    "the NumPy random.randint() function is used to select random indices\n",
    "from the X_train set. To do that, 28 random integers are generated in a\n",
    "range between 0 and the total length of X_train. The same process is used to\n",
    "generate the random indices of the dev set. Finally, a new variable is created to\n",
    "store the selected values of X_train and X_dev, as well as a variable to store\n",
    "the corresponding values from Y_train and Y_dev.\n",
    "The variables that have been created contain 25 instances/labels from the train\n",
    "set and 25 instances/labels from the dev set.\n",
    " \n",
    "Train a decision tree on the train set, as follows:"
   ]
  },
  {
   "cell_type": "code",
   "execution_count": 5,
   "metadata": {},
   "outputs": [],
   "source": [
    "model = tree.DecisionTreeClassifier(random_state=101)\n",
    "model = model.fit(X_train, Y_train)"
   ]
  },
  {
   "cell_type": "markdown",
   "metadata": {},
   "source": [
    "Use the predict method to generate the predictions for all of your sets (train,\n",
    "train/dev, dev, and test). Next, considering that the objective of the study is to\n",
    "maximize the model's ability to predict all malignant cases, calculate the recall\n",
    "scores for all predictions. Store all of the scores in a variable named scores:"
   ]
  },
  {
   "cell_type": "code",
   "execution_count": 6,
   "metadata": {},
   "outputs": [
    {
     "name": "stdout",
     "output_type": "stream",
     "text": [
      "{'Training': 1.0, 'Train/dev': 0.9705882352941176, 'Validation': 0.9333333333333333, 'Testing': 0.9714285714285714}\n"
     ]
    }
   ],
   "source": [
    "sets = [\"Training\", \"Train/dev\", \"Validation\", \"Testing\"]\n",
    "X_sets = [X_train, X_train_dev, X_dev, X_test]\n",
    "Y_sets = [Y_train, Y_train_dev, Y_dev, Y_test]\n",
    "\n",
    "scores = {}\n",
    "for i in range(0,len(X_sets)):\n",
    "    pred = model.predict(X_sets[i])\n",
    "    score = recall_score(Y_sets[i],pred)\n",
    "    scores[sets[i]] = score\n",
    "\n",
    "print(scores)"
   ]
  },
  {
   "cell_type": "code",
   "execution_count": null,
   "metadata": {},
   "outputs": [],
   "source": []
  }
 ],
 "metadata": {
  "kernelspec": {
   "display_name": "Python 3",
   "language": "python",
   "name": "python3"
  },
  "language_info": {
   "codemirror_mode": {
    "name": "ipython",
    "version": 3
   },
   "file_extension": ".py",
   "mimetype": "text/x-python",
   "name": "python",
   "nbconvert_exporter": "python",
   "pygments_lexer": "ipython3",
   "version": "3.7.3"
  }
 },
 "nbformat": 4,
 "nbformat_minor": 2
}
