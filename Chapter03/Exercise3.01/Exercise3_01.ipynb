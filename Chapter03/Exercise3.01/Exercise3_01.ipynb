{
 "cells": [
  {
   "cell_type": "markdown",
   "metadata": {},
   "source": [
    "Open a Jupyter Notebook to implement this exercise. Import the\n",
    "required elements, as well as the load_wine function from scikit-learn's\n",
    "datasets package:"
   ]
  },
  {
   "cell_type": "code",
   "execution_count": 1,
   "metadata": {},
   "outputs": [],
   "source": [
    "from sklearn.datasets import load_wine\n",
    "import pandas as pd\n",
    "from sklearn.model_selection import train_test_split"
   ]
  },
  {
   "cell_type": "markdown",
   "metadata": {},
   "source": [
    "The first line imports the function that will be used to load the dataset from\n",
    "scikit-learn. Next, pandas library is imported. Finally, the train_test_split\n",
    "function is imported, which will be in charge of partitioning the dataset. The\n",
    "function partitions the data into two subsets (a train and a test set). As the\n",
    "objective of this exercise is to partition data into three subsets, the function will\n",
    "be used twice to achieve the desired result.\n",
    " \n",
    "Load the wine toy dataset and store it in a variable named data. Use the\n",
    "following code snippet to do so:"
   ]
  },
  {
   "cell_type": "code",
   "execution_count": 2,
   "metadata": {},
   "outputs": [],
   "source": [
    "data = load_wine()"
   ]
  },
  {
   "cell_type": "markdown",
   "metadata": {},
   "source": [
    "The load_wine function loads the toy dataset provided by scikit-learn.\n",
    " \n",
    "Convert each attribute (data and target) into a Pandas DataFrame to facilitate\n",
    "data manipulation. Print the shape of both DataFrames:"
   ]
  },
  {
   "cell_type": "code",
   "execution_count": 3,
   "metadata": {},
   "outputs": [
    {
     "name": "stdout",
     "output_type": "stream",
     "text": [
      "(178, 13) (178, 1)\n"
     ]
    }
   ],
   "source": [
    "X = pd.DataFrame(data.data)\n",
    "Y = pd.DataFrame(data.target)\n",
    "print(X.shape,Y.shape)"
   ]
  },
  {
   "cell_type": "markdown",
   "metadata": {},
   "source": [
    "Perform your first split of the data using the train_test_split function. Use\n",
    "the following code snippet to do so:"
   ]
  },
  {
   "cell_type": "code",
   "execution_count": 4,
   "metadata": {},
   "outputs": [
    {
     "name": "stdout",
     "output_type": "stream",
     "text": [
      "(142, 13) (36, 13) (142, 1) (36, 1)\n"
     ]
    }
   ],
   "source": [
    "X, X_test, Y, Y_test = train_test_split(X, Y, test_size=0.2)\n",
    "print(X.shape, X_test.shape, Y.shape, Y_test.shape)"
   ]
  },
  {
   "cell_type": "markdown",
   "metadata": {},
   "source": [
    "To create a validation set (dev set), we will use the train_test_split\n",
    "function to divide the train sets we obtained in the previous step. However, to\n",
    "obtain a dev set that's the same shape as the test set, it is necessary to calculate\n",
    "the proportion of the size of the test set over the size of the train set before\n",
    "creating a validation set. This value will be used as the test_size for the\n",
    "next step:"
   ]
  },
  {
   "cell_type": "code",
   "execution_count": 5,
   "metadata": {},
   "outputs": [
    {
     "name": "stdout",
     "output_type": "stream",
     "text": [
      "0.2535211267605634\n"
     ]
    }
   ],
   "source": [
    "dev_size = 36/142\n",
    "print(dev_size)"
   ]
  },
  {
   "cell_type": "markdown",
   "metadata": {},
   "source": [
    "Use the train_test_split function to divide the train set into two subsets\n",
    "(train and dev sets). Use the result from the operation in the previous step as the\n",
    "test_size:"
   ]
  },
  {
   "cell_type": "code",
   "execution_count": 6,
   "metadata": {},
   "outputs": [
    {
     "name": "stdout",
     "output_type": "stream",
     "text": [
      "(106, 13) (106, 1) (36, 13) (36, 1) (36, 13) (36, 1)\n"
     ]
    }
   ],
   "source": [
    "X_train, X_dev, Y_train, Y_dev = train_test_split(X, Y, test_size=dev_size)\n",
    "print(X_train.shape, Y_train.shape, X_dev.shape, Y_dev.shape, X_test.shape, Y_test.shape)"
   ]
  }
 ],
 "metadata": {
  "kernelspec": {
   "display_name": "Python 3.10.0 64-bit",
   "language": "python",
   "name": "python3"
  },
  "language_info": {
   "codemirror_mode": {
    "name": "ipython",
    "version": 3
   },
   "file_extension": ".py",
   "mimetype": "text/x-python",
   "name": "python",
   "nbconvert_exporter": "python",
   "pygments_lexer": "ipython3",
   "version": "3.10.0"
  },
  "vscode": {
   "interpreter": {
    "hash": "369f2c481f4da34e4445cda3fffd2e751bd1c4d706f27375911949ba6bb62e1c"
   }
  }
 },
 "nbformat": 4,
 "nbformat_minor": 2
}
